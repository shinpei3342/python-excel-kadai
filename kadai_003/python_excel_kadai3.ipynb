{
  "nbformat": 4,
  "nbformat_minor": 0,
  "metadata": {
    "colab": {
      "provenance": []
    },
    "kernelspec": {
      "name": "python3",
      "display_name": "Python 3"
    },
    "language_info": {
      "name": "python"
    }
  },
  "cells": [
    {
      "cell_type": "code",
      "execution_count": 1,
      "metadata": {
        "id": "kJgvzxrmI5kc"
      },
      "outputs": [],
      "source": [
        "import pandas as pd\n",
        "import openpyxl\n",
        "from openpyxl.styles import PatternFill\n",
        "\n",
        "# ファイルリスト\n",
        "file_list = [\"2022_年間売上表.xlsx\", \"2023_年間売上表.xlsx\"]\n",
        "\n",
        "# データフレームを格納するための空のデータフレーム\n",
        "df = pd.DataFrame()\n",
        "\n",
        "# ファイルを1つずつ処理\n",
        "for file_name in file_list:\n",
        "    # Excelファイルを読み込み（ヘッダーあり）\n",
        "    temp_df = pd.read_excel(file_name)\n",
        "\n",
        "    # 列名チェックと修正\n",
        "    temp_df.columns = ['売上年', '商品', '金額（千円）']\n",
        "\n",
        "    # 金額列を数値型に変換（文字列はNaNになる）\n",
        "    temp_df[\"金額（千円）\"] = pd.to_numeric(temp_df[\"金額（千円）\"], errors=\"coerce\")\n",
        "\n",
        "    # データフレームを結合\n",
        "    df = pd.concat([df, temp_df], ignore_index=True)\n",
        "\n",
        "# 商品と売上年ごとに金額を合計し、インデックスをリセット\n",
        "result = df.groupby([\"商品\", \"売上年\"], as_index=False).agg({\"金額（千円）\": \"sum\"})\n",
        "\n",
        "# Excelに出力\n",
        "output_file = \"売上集計表.xlsx\"\n",
        "with pd.ExcelWriter(output_file, engine='openpyxl') as writer:\n",
        "    result.to_excel(writer, sheet_name=\"売上集計\", index=False)\n",
        "\n",
        "# 既存のExcelファイルを開いてヘッダーに色をつける\n",
        "workbook = openpyxl.load_workbook('売上集計表.xlsx')\n",
        "sheet = workbook['売上集計']\n",
        "\n",
        "# A1から最終列までのヘッダーに塗りつぶしを行う\n",
        "for cell in sheet[\"1:1\"]:\n",
        "    cell.fill = PatternFill(patternType='solid', fgColor='F2F2F2')\n",
        "\n",
        "# 変更を保存\n",
        "workbook.save(output_file)\n"
      ]
    },
    {
      "cell_type": "code",
      "source": [
        "!pip install xlsxwriter"
      ],
      "metadata": {
        "colab": {
          "base_uri": "https://localhost:8080/"
        },
        "id": "QX9YMf14JdRf",
        "outputId": "f17c8bee-21f3-49bf-e76b-ccba76cb7c3d"
      },
      "execution_count": null,
      "outputs": [
        {
          "output_type": "stream",
          "name": "stdout",
          "text": [
            "Collecting xlsxwriter\n",
            "  Downloading XlsxWriter-3.2.2-py3-none-any.whl.metadata (2.8 kB)\n",
            "Downloading XlsxWriter-3.2.2-py3-none-any.whl (165 kB)\n",
            "\u001b[2K   \u001b[90m━━━━━━━━━━━━━━━━━━━━━━━━━━━━━━━━━━━━━━━━\u001b[0m \u001b[32m165.1/165.1 kB\u001b[0m \u001b[31m2.6 MB/s\u001b[0m eta \u001b[36m0:00:00\u001b[0m\n",
            "\u001b[?25hInstalling collected packages: xlsxwriter\n",
            "Successfully installed xlsxwriter-3.2.2\n"
          ]
        }
      ]
    }
  ]
}