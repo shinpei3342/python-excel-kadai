{
  "nbformat": 4,
  "nbformat_minor": 0,
  "metadata": {
    "colab": {
      "provenance": []
    },
    "kernelspec": {
      "name": "python3",
      "display_name": "Python 3"
    },
    "language_info": {
      "name": "python"
    }
  },
  "cells": [
    {
      "cell_type": "code",
      "execution_count": 50,
      "metadata": {
        "id": "uV_9DnIH292d"
      },
      "outputs": [],
      "source": [
        "import openpyxl\n",
        "from datetime import datetime\n",
        "\n",
        "today = datetime.today()\n",
        "\n",
        "workbook = openpyxl.Workbook()\n",
        "\n",
        "sheet = workbook.active\n",
        "\n",
        "sheet[\"B2\"] = \"請求書\"\n",
        "\n",
        "data = [\"株式会社ABC\" ,\"〒101-0022東京都千代田区神田練堀町300\" , \"TEL:03-1234-5678 FAX:03-1234-5678\" ,\"担当者:鈴木一郎様\"]\n",
        "for i in range(4, 8, 1):\n",
        "  sheet.cell(row=i, column=2, value = data[i - 4])\n",
        "\n",
        "data = [\"No.\",\"日付\"]\n",
        "for i in range(4, 6, 1):\n",
        "  sheet.cell(row = i, column = 6, value = data[i - 4])\n",
        "\n",
        "data = [\"0001\", today.strftime(\"%Y/%m/%d\")]\n",
        "for i in range(4, 6, 1):\n",
        "  sheet.cell(row = i, column = 7, value = data[i - 4])\n",
        "\n",
        "data = [\"商品名\", \"数量\", \"単価\", \"金額\"]\n",
        "for i in range(2, 6, 1):\n",
        "  sheet.cell(row = 10, column = i, value = data[i - 2])\n",
        "\n",
        "data = [\"商品A\", 2, 10000, 20000]\n",
        "for i in range(2, 6, 1):\n",
        "  sheet.cell(row = 11, column = i, value = data[i - 2])\n",
        "\n",
        "data = [\"商品B\", 1, 15000, 15000]\n",
        "for i in range(2, 6, 1):\n",
        "  sheet.cell(row = 12, column = i, value = data[i - 2])\n",
        "\n",
        "data = [\"合計\", \"消費税\", \"税込合計\"]\n",
        "for i in range(15, 18, 1):\n",
        "  sheet.cell(row = i, column = 2, value = data[i - 15])\n",
        "\n",
        "data = [35000, 3500, 38500]\n",
        "for i in range(15, 18, 1):\n",
        "  sheet.cell(row = i, column = 5, value = data[i - 15])\n",
        "\n",
        "savename = f\"請求書_{today.strftime('%Y%m%d')}.xlsx\"\n",
        "workbook.save(savename)"
      ]
    }
  ]
}